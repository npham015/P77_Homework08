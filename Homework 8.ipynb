{
 "cells": [
  {
   "cell_type": "markdown",
   "metadata": {},
   "source": [
    "# Homework 8: Magnetization, Energy in the Ising Model\n",
    "\n",
    "Physics 177, Spring 2017 (Prof. Tanedo)  \n",
    "Due: Friday, June 16    \n",
    "\n",
    "*Nicholas Pham*"
   ]
  },
  {
   "cell_type": "markdown",
   "metadata": {
    "collapsed": true
   },
   "source": [
    "Code the Ising model to study the phase transition at $T_c\\approx 2.27$ (in units where $J = k_B = 1$). Use the Metropolis algorithm for Markov Chain Monte Carlo, as we set up in Lecture 18: https://github.com/Physics177-2017/Lec18-Ising-Model/blob/master/Lec18-IsingModel.ipynb\n",
    "\n",
    "**Make the following plots:**\n",
    "1. Magnetization as a function of temperature\n",
    "2. Energy as a function of temperature\n",
    "\n",
    "You may define magnetization as the total spin of the system (sum of the spins of each node). You may define the energy as the sum of $\\Delta E_i$ for each spin $i$. Recall that \n",
    "\n",
    "$$\\Delta E_i = -\\sum_{j} s_is_j$$\n",
    "\n",
    "(Note: actually, you should define $E = \\sum_i \\Delta E_i/4$, but we don't care about the overall pre-factors, we just want to see the qualitative shapes of the plots.)\n",
    "\n",
    "**Guidelines**\n",
    "You should be able to get reasonable results for:\n",
    "* A $20\\times 20$ array.\n",
    "* Sampling 1000 temperature points between $T=1$ and $T=4$\n",
    "* Allowing 2000 Monte Carlo steps to draw a sample.\n",
    "\n",
    "*Pro-tip:* One way to improve your calculations is to let your Monte Carlo \"equilibrate\" before recording data. In other words, your Markov Chain algorithm should be:\n",
    "\n",
    "1. Pick a random configuration\n",
    "2. Run for 2000 steps (without recording data)\n",
    "3. Perform your Markov Chain algorithm as usual, using the configuration at the end of step 2 as your initial configuration.\n",
    "\n",
    "\n",
    "Code this up on your own, you may use the code from Lecture 18 as a starting point. \n",
    "\n",
    "The *answers* are available in a notebook written by Rajesh Singh:\n",
    "http://rajeshrinet.github.io/blog/2014/ising-model/\n",
    "... you may use that notebook (in particular, the plots) as a guideline for what your code should produce. "
   ]
  },
  {
   "cell_type": "markdown",
   "metadata": {},
   "source": [
    "## **This is a test for one temperature with a smaller box dimension**"
   ]
  },
  {
   "cell_type": "code",
   "execution_count": 207,
   "metadata": {
    "collapsed": true
   },
   "outputs": [],
   "source": [
    "#Import all the necessary libraries. This will be updated as the code progresses.\n",
    "\n",
    "import numpy as np\n",
    "import scipy as sc\n",
    "import matplotlib.pyplot as plt\n",
    "from random import *"
   ]
  },
  {
   "cell_type": "code",
   "execution_count": 235,
   "metadata": {
    "collapsed": false
   },
   "outputs": [
    {
     "name": "stdout",
     "output_type": "stream",
     "text": [
      "[[ 1. -1.  1. -1.  1. -1.  1. -1.  1. -1.]\n",
      " [-1. -1. -1.  1. -1. -1.  1. -1. -1.  1.]\n",
      " [ 1. -1.  1. -1. -1.  1. -1. -1.  1. -1.]\n",
      " [ 1. -1.  1. -1.  1.  1. -1.  1.  1.  1.]\n",
      " [-1. -1. -1. -1.  1.  1. -1.  1. -1. -1.]\n",
      " [ 1. -1. -1. -1. -1. -1. -1.  1.  1. -1.]\n",
      " [ 1.  1. -1. -1.  1. -1.  1.  1.  1.  1.]\n",
      " [ 1.  1.  1. -1. -1. -1.  1.  1.  1. -1.]\n",
      " [-1.  1.  1.  1.  1. -1.  1. -1.  1.  1.]\n",
      " [ 1. -1.  1. -1.  1.  1.  1.  1. -1.  1.]]\n"
     ]
    }
   ],
   "source": [
    "##This is for a one sample temperature right now\n",
    "#Dimension of system box\n",
    "n = 10\n",
    "\n",
    "#System temperature\n",
    "tau = 2.50\n",
    "#Create the array\n",
    "system = np.zeros((n,n))\n",
    "system0 = np.zeros((n,n))\n",
    "#Fill the system with random up or down spins\n",
    "for i in range(n):\n",
    "    for j in range(n):\n",
    "        #Uses the floor function to generate \n",
    "        system[i,j] = int(1 - 2*np.floor(2*(random())))\n",
    "        #Save a copy of the old array\n",
    "        system0[i,j] = system[i,j]\n",
    "\n",
    "print(system)"
   ]
  },
  {
   "cell_type": "code",
   "execution_count": 236,
   "metadata": {
    "collapsed": true
   },
   "outputs": [],
   "source": [
    "#Get energy of the system\n",
    "def getdeltaenergy(i, j, sys):\n",
    "    \"\"\"\n",
    "    Returns the energy of the [i,j] cell of the matrix\n",
    "    \"\"\"\n",
    "    current_spin = sys[i,j]\n",
    "    new_spin = -1*current_spin\n",
    "    current_energy = -1*current_spin*(sys[(i+1)%n,j] + \\\n",
    "                                    sys[(i-1)%n,j] + \\\n",
    "                                    sys[i,(j+1)%n] + \\\n",
    "                                    sys[i,(j-1)%n])\n",
    "    new_energy = -1*new_spin*(sys[(i+1)%n,j] + \\\n",
    "                                    sys[(i-1)%n,j] + \\\n",
    "                                    sys[i,(j+1)%n] + \\\n",
    "                                    sys[i,(j-1)%n])\n",
    "    deltaE = new_energy - current_energy\n",
    "    return deltaE"
   ]
  },
  {
   "cell_type": "code",
   "execution_count": 237,
   "metadata": {
    "collapsed": false
   },
   "outputs": [
    {
     "name": "stdout",
     "output_type": "stream",
     "text": [
      "Old System\n",
      "[[ 1. -1.  1. -1.  1. -1.  1. -1.  1. -1.]\n",
      " [-1. -1. -1.  1. -1. -1.  1. -1. -1.  1.]\n",
      " [ 1. -1.  1. -1. -1.  1. -1. -1.  1. -1.]\n",
      " [ 1. -1.  1. -1.  1.  1. -1.  1.  1.  1.]\n",
      " [-1. -1. -1. -1.  1.  1. -1.  1. -1. -1.]\n",
      " [ 1. -1. -1. -1. -1. -1. -1.  1.  1. -1.]\n",
      " [ 1.  1. -1. -1.  1. -1.  1.  1.  1.  1.]\n",
      " [ 1.  1.  1. -1. -1. -1.  1.  1.  1. -1.]\n",
      " [-1.  1.  1.  1.  1. -1.  1. -1.  1.  1.]\n",
      " [ 1. -1.  1. -1.  1.  1.  1.  1. -1.  1.]]\n",
      " \n",
      " \n",
      " \n",
      "New System\n",
      "[[ 1.  1.  1. -1. -1. -1. -1.  1.  1. -1.]\n",
      " [ 1.  1.  1. -1. -1. -1. -1. -1.  1.  1.]\n",
      " [ 1. -1.  1. -1. -1. -1. -1. -1. -1.  1.]\n",
      " [ 1.  1.  1.  1.  1. -1. -1.  1.  1.  1.]\n",
      " [ 1.  1.  1.  1.  1. -1. -1.  1. -1.  1.]\n",
      " [ 1.  1.  1.  1. -1. -1. -1. -1. -1. -1.]\n",
      " [ 1.  1.  1.  1.  1.  1. -1. -1.  1.  1.]\n",
      " [ 1.  1.  1.  1.  1.  1. -1. -1.  1.  1.]\n",
      " [-1.  1.  1.  1.  1. -1. -1. -1. -1.  1.]\n",
      " [ 1.  1.  1. -1. -1. -1. -1.  1.  1.  1.]]\n"
     ]
    }
   ],
   "source": [
    "#Define Number of Steps\n",
    "N_steps = 20000\n",
    "\n",
    "#Run through steps\n",
    "for i in range(N_steps):\n",
    "    #Get a random point\n",
    "    x = int(np.floor(n*random()))\n",
    "    y = int(np.floor(n*random()))\n",
    "    energydiff = getdeltaenergy(x,y,system)\n",
    "    if energydiff<0:\n",
    "        system[x,y] = -1*system[x,y]\n",
    "        #if i%500 == 0:\n",
    "        #    print('Favorable\\n')\n",
    "    elif random() < np.exp(-1*energydiff/tau):\n",
    "        system[x,y] = -1*system[x,y]\n",
    "        #if i%500 == 0:\n",
    "        #    print('Got lucky\\n')\n",
    "    #elif== i%500 == 0:\n",
    "        #print('No go\\n')\n",
    "#Thermal Equilibrated System\n",
    "print('Old System')\n",
    "print(system0)\n",
    "print(' \\n \\n ')\n",
    "print('New System')\n",
    "print(system)"
   ]
  },
  {
   "cell_type": "code",
   "execution_count": 243,
   "metadata": {
    "collapsed": false
   },
   "outputs": [
    {
     "name": "stdout",
     "output_type": "stream",
     "text": [
      "80.5557221389\n"
     ]
    }
   ],
   "source": [
    "def magnetization(arr):\n",
    "    #Input array is the matrix you would like to find the magnetization of.\n",
    "    #Only works for 2D arrays\n",
    "    count = 0\n",
    "    for i in range(len(arr)):\n",
    "        for j in range(len(arr[0])):\n",
    "            count += arr[i][j]\n",
    "    return count\n",
    "\n",
    "def average(arr):\n",
    "    \"\"\"\n",
    "    Returns the average of the 1d array\n",
    "    \"\"\"\n",
    "    elements = len(arr)\n",
    "    count = 0.0\n",
    "    for i in range(len(arr)):\n",
    "        count += arr[i]\n",
    "    return count/elements\n",
    "\n",
    "def recopy(arr1, arr2):\n",
    "    \"\"\"\n",
    "    Copies 2 onto 1. They have to have the same dimensions//\n",
    "    \"\"\"\n",
    "    for i in range(len(arr1)):\n",
    "        for j in range(len(arr1[0])):\n",
    "            arr1[i,j] = arr2[i,j]\n",
    "\n",
    "mag = [magnetization(system)]\n",
    "for i in range(2000):\n",
    "    #Get a random point\n",
    "    x = int(np.floor(n*random()))\n",
    "    y = int(np.floor(n*random()))\n",
    "    energydiff = getdeltaenergy(x,y,system)\n",
    "    if energydiff<0:\n",
    "        system[x,y] = -1*system[x,y]\n",
    "        #if i%500 == 0:\n",
    "        #    print('Favorable\\n')\n",
    "    elif random() < np.exp(-1*energydiff/tau):\n",
    "        system[x,y] = -1*system[x,y]\n",
    "    mag.append(magnetization(system))\n",
    "\n",
    "#print(mag)\n",
    "print(abs(average(mag)))"
   ]
  },
  {
   "cell_type": "markdown",
   "metadata": {
    "collapsed": true
   },
   "source": [
    "## **Now lets do all the temperatures in the range and maintain box dimensions**"
   ]
  },
  {
   "cell_type": "code",
   "execution_count": 246,
   "metadata": {
    "collapsed": false
   },
   "outputs": [],
   "source": [
    "#Constants\n",
    "n = 10\n",
    "N_steps_equ = 8000\n",
    "metro_range = 2000\n",
    "#Temperature steps\n",
    "t = np.linspace(1,4,1000)\n",
    "\n",
    "#Place to store all of the average magnitizations\n",
    "avg_mag = []\n",
    "\n",
    "for temp in t:\n",
    "    #STEP 1: MAKE THE RANDOM ARRAY\n",
    "    system = np.zeros((n,n))\n",
    "    #Fill the system with random up or down spins\n",
    "    for i in range(n):\n",
    "        for j in range(n):\n",
    "            #Uses the floor function to generate \n",
    "            system[i,j] = int(1 - 2*np.floor(2*(random())))\n",
    "            \n",
    "    #STEP 2: EQUILIBRIATE\n",
    "    for i in range(N_steps_equ):\n",
    "        #Get a random point\n",
    "        x = int(np.floor(n*random()))\n",
    "        y = int(np.floor(n*random()))\n",
    "        energydiff = getdeltaenergy(x,y,system)\n",
    "        if energydiff<0:\n",
    "            system[x,y] = -1*system[x,y]\n",
    "        elif random() < np.exp(-1*energydiff/temp):\n",
    "            system[x,y] = -1*system[x,y]\n",
    "        \n",
    "    #STEP 3: DO MCMC METROPOLIS\n",
    "    mag = [magnetization(system)]\n",
    "    for i in range(metro_range):\n",
    "        #Get a random point\n",
    "        x = int(np.floor(n*random()))\n",
    "        y = int(np.floor(n*random()))\n",
    "        energydiff = getdeltaenergy(x,y,system)\n",
    "        if energydiff<0:\n",
    "            system[x,y] = -1*system[x,y]\n",
    "        elif random() < np.exp(-1*energydiff/temp):\n",
    "            system[x,y] = -1*system[x,y]\n",
    "            mag.append(magnetization(system))\n",
    "    avg_mag.append(abs(average(mag)))\n"
   ]
  },
  {
   "cell_type": "code",
   "execution_count": 248,
   "metadata": {
    "collapsed": false
   },
   "outputs": [
    {
     "data": {
      "image/png": "[encoded data removed]",
      "text/plain": [
       "<matplotlib.figure.Figure at 0xf1d0b0>"
      ]
     },
     "metadata": {},
     "output_type": "display_data"
    }
   ],
   "source": [
    "plt.plot(t,avg_mag, 'r.')\n",
    "plt.title('Trend for Magnetization and Temperature')\n",
    "plt.xlabel('Temperature (K)')\n",
    "plt.ylabel('Relative Magnetization')\n",
    "plt.show()"
   ]
  },
  {
   "cell_type": "markdown",
   "metadata": {},
   "source": [
    "This plot does not look as intended. It follows the same general curve, but after about 2.25, there is a large amount of disorder. There are a few outliers near the beginning of the plot."
   ]
  },
  {
   "cell_type": "code",
   "execution_count": null,
   "metadata": {
    "collapsed": true
   },
   "outputs": [],
   "source": []
  }
 ],
 "metadata": {
  "kernelspec": {
   "display_name": "Python 3",
   "language": "python",
   "name": "python3"
  },
  "language_info": {
   "codemirror_mode": {
    "name": "ipython",
    "version": 3
   },
   "file_extension": ".py",
   "mimetype": "text/x-python",
   "name": "python",
   "nbconvert_exporter": "python",
   "pygments_lexer": "ipython3",
   "version": "3.6.0"
  }
 },
 "nbformat": 4,
 "nbformat_minor": 2
}
